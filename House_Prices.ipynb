{
  "cells": [
    {
      "cell_type": "markdown",
      "metadata": {
        "id": "JuZjUHKWfVVk"
      },
      "source": [
        "# Setup:"
      ]
    },
    {
      "cell_type": "markdown",
      "metadata": {
        "id": "PiRn0nRwe0_K"
      },
      "source": [
        "## Setup of kaggle (4 G colab):"
      ]
    },
    {
      "cell_type": "code",
      "execution_count": 20,
      "metadata": {
        "id": "j_cMnu96c1CP"
      },
      "outputs": [],
      "source": [
        " ! pip install -q kaggle\n",
        " # Kaggle create api token, copy it to colab.\n",
        " from google.colab import files\n",
        " import os\n",
        " # if file does not exists\n",
        " if os.path.isfile(\"kaggle.json\") == False:\n",
        "   files.upload()\n",
        "   ! mkdir ~/.kaggle\n",
        "   ! cp kaggle.json ~/.kaggle/\n",
        "   ! chmod 600 ~/.kaggle/kaggle.json"
      ]
    },
    {
      "cell_type": "markdown",
      "metadata": {
        "id": "ex6jKFC_fGbS"
      },
      "source": [
        "## Download & unzip Dataset"
      ]
    },
    {
      "cell_type": "code",
      "execution_count": 8,
      "metadata": {
        "colab": {
          "base_uri": "https://localhost:8080/"
        },
        "id": "Uzz9kSTpVfue",
        "outputId": "92ef6d0e-82bd-45fd-a1be-380049cbce57"
      },
      "outputs": [
        {
          "name": "stdout",
          "output_type": "stream",
          "text": [
            "house-prices-advanced-regression-techniques.zip: Skipping, found more recently modified local copy (use --force to force download)\n",
            "Archive:  house-prices-advanced-regression-techniques.zip\n",
            "  inflating: data_description.txt    \n",
            "  inflating: sample_submission.csv   \n",
            "  inflating: test.csv                \n",
            "  inflating: train.csv               \n"
          ]
        }
      ],
      "source": [
        "! kaggle competitions download -c house-prices-advanced-regression-techniques\n",
        "! unzip -o house-prices-advanced-regression-techniques.zip"
      ]
    },
    {
      "cell_type": "markdown",
      "metadata": {
        "id": "_8yFsJaLfRk8"
      },
      "source": [
        "# Preparing the dataset:"
      ]
    },
    {
      "cell_type": "code",
      "execution_count": null,
      "metadata": {
        "id": "OJUdjJJgfhx6"
      },
      "outputs": [],
      "source": []
    }
  ],
  "metadata": {
    "colab": {
      "provenance": []
    },
    "kernelspec": {
      "display_name": "Python 3.9.13 64-bit",
      "language": "python",
      "name": "python3"
    },
    "language_info": {
      "name": "python",
      "version": "3.9.13"
    },
    "vscode": {
      "interpreter": {
        "hash": "aee8b7b246df8f9039afb4144a1f6fd8d2ca17a180786b69acc140d282b71a49"
      }
    }
  },
  "nbformat": 4,
  "nbformat_minor": 0
}
